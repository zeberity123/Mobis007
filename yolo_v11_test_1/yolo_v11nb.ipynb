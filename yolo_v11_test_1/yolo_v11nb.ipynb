{
 "cells": [
  {
   "cell_type": "code",
   "execution_count": 1,
   "metadata": {},
   "outputs": [],
   "source": [
    "from ultralytics import YOLO\n",
    "import numpy as np"
   ]
  },
  {
   "cell_type": "code",
   "execution_count": 2,
   "metadata": {},
   "outputs": [],
   "source": [
    "model = YOLO(\"yolo11x.pt\")\n",
    "# model = YOLO(\"yolo11x-cls.pt\")"
   ]
  },
  {
   "cell_type": "code",
   "execution_count": 3,
   "metadata": {},
   "outputs": [
    {
     "name": "stdout",
     "output_type": "stream",
     "text": [
      "\n",
      "image 1/1 /home/ubuntu/Mobis007/yolo_v11_test/089083.png: 384x640 1 person, 1 bicycle, 5 cars, 80.8ms\n",
      "Speed: 5.6ms preprocess, 80.8ms inference, 515.8ms postprocess per image at shape (1, 3, 384, 640)\n"
     ]
    }
   ],
   "source": [
    "results = model(\"089083.png\")"
   ]
  },
  {
   "cell_type": "code",
   "execution_count": 12,
   "metadata": {},
   "outputs": [
    {
     "name": "stdout",
     "output_type": "stream",
     "text": [
      "ultralytics.engine.results.Results object with attributes:\n",
      "\n",
      "boxes: ultralytics.engine.results.Boxes object\n",
      "keypoints: None\n",
      "masks: None\n",
      "names: {0: 'person', 1: 'bicycle', 2: 'car', 3: 'motorcycle', 4: 'airplane', 5: 'bus', 6: 'train', 7: 'truck', 8: 'boat', 9: 'traffic light', 10: 'fire hydrant', 11: 'stop sign', 12: 'parking meter', 13: 'bench', 14: 'bird', 15: 'cat', 16: 'dog', 17: 'horse', 18: 'sheep', 19: 'cow', 20: 'elephant', 21: 'bear', 22: 'zebra', 23: 'giraffe', 24: 'backpack', 25: 'umbrella', 26: 'handbag', 27: 'tie', 28: 'suitcase', 29: 'frisbee', 30: 'skis', 31: 'snowboard', 32: 'sports ball', 33: 'kite', 34: 'baseball bat', 35: 'baseball glove', 36: 'skateboard', 37: 'surfboard', 38: 'tennis racket', 39: 'bottle', 40: 'wine glass', 41: 'cup', 42: 'fork', 43: 'knife', 44: 'spoon', 45: 'bowl', 46: 'banana', 47: 'apple', 48: 'sandwich', 49: 'orange', 50: 'broccoli', 51: 'carrot', 52: 'hot dog', 53: 'pizza', 54: 'donut', 55: 'cake', 56: 'chair', 57: 'couch', 58: 'potted plant', 59: 'bed', 60: 'dining table', 61: 'toilet', 62: 'tv', 63: 'laptop', 64: 'mouse', 65: 'remote', 66: 'keyboard', 67: 'cell phone', 68: 'microwave', 69: 'oven', 70: 'toaster', 71: 'sink', 72: 'refrigerator', 73: 'book', 74: 'clock', 75: 'vase', 76: 'scissors', 77: 'teddy bear', 78: 'hair drier', 79: 'toothbrush'}\n",
      "obb: None\n",
      "orig_img: array([[[75, 82, 27],\n",
      "        [87, 94, 39],\n",
      "        [72, 77, 29],\n",
      "        ...,\n",
      "        [48, 58, 39],\n",
      "        [46, 58, 41],\n",
      "        [46, 58, 41]],\n",
      "\n",
      "       [[91, 98, 41],\n",
      "        [91, 98, 41],\n",
      "        [94, 97, 49],\n",
      "        ...,\n",
      "        [49, 60, 39],\n",
      "        [48, 59, 38],\n",
      "        [48, 59, 38]],\n",
      "\n",
      "       [[89, 98, 41],\n",
      "        [89, 98, 41],\n",
      "        [89, 97, 46],\n",
      "        ...,\n",
      "        [52, 58, 39],\n",
      "        [51, 60, 37],\n",
      "        [51, 60, 37]],\n",
      "\n",
      "       ...,\n",
      "\n",
      "       [[64, 60, 42],\n",
      "        [64, 60, 42],\n",
      "        [64, 60, 41],\n",
      "        ...,\n",
      "        [91, 76, 37],\n",
      "        [91, 75, 40],\n",
      "        [91, 75, 40]],\n",
      "\n",
      "       [[64, 59, 44],\n",
      "        [64, 59, 44],\n",
      "        [64, 60, 42],\n",
      "        ...,\n",
      "        [89, 76, 37],\n",
      "        [93, 74, 40],\n",
      "        [93, 74, 40]],\n",
      "\n",
      "       [[64, 59, 44],\n",
      "        [64, 59, 44],\n",
      "        [64, 60, 42],\n",
      "        ...,\n",
      "        [89, 76, 37],\n",
      "        [93, 74, 40],\n",
      "        [93, 74, 40]]], dtype=uint8)\n",
      "orig_shape: (1080, 1920)\n",
      "path: '/home/ubuntu/Mobis007/yolo_v11_test/089083.png'\n",
      "probs: None\n",
      "save_dir: 'runs/detect/predict'\n",
      "speed: {'preprocess': 5.615234375, 'inference': 80.77216148376465, 'postprocess': 515.8374309539795}\n"
     ]
    }
   ],
   "source": [
    "# print(len(results[0][4]))\n",
    "# for i in results[0]:\n",
    "#     i.show()\n",
    "results[0].save(f'detection_results/ww.png')\n",
    "print(results[0])"
   ]
  },
  {
   "cell_type": "code",
   "execution_count": 8,
   "metadata": {},
   "outputs": [
    {
     "name": "stdout",
     "output_type": "stream",
     "text": [
      "\n",
      "image 1/1 /home/ubuntu/Mobis007/yolo_v11_test/089083.png: 384x640 1 person, 1 bicycle, 5 cars, 51.7ms\n",
      "Speed: 19.5ms preprocess, 51.7ms inference, 1.2ms postprocess per image at shape (1, 3, 384, 640)\n",
      "{'name': 'car', 'class': 2, 'confidence': 0.89422, 'box': {'x1': 829.03326, 'y1': 565.51208, 'x2': 1030.646, 'y2': 715.71533}}\n",
      "{'name': 'car', 'class': 2, 'confidence': 0.88685, 'box': {'x1': 34.07663, 'y1': 516.82837, 'x2': 196.89365, 'y2': 641.18896}}\n",
      "{'name': 'car', 'class': 2, 'confidence': 0.86797, 'box': {'x1': 654.55005, 'y1': 539.60632, 'x2': 774.66852, 'y2': 606.80255}}\n",
      "{'name': 'car', 'class': 2, 'confidence': 0.82396, 'box': {'x1': 1050.32263, 'y1': 559.70996, 'x2': 1133.23499, 'y2': 630.0274}}\n",
      "{'name': 'car', 'class': 2, 'confidence': 0.74079, 'box': {'x1': 990.49219, 'y1': 562.06592, 'x2': 1069.74097, 'y2': 660.63934}}\n",
      "{'name': 'bicycle', 'class': 1, 'confidence': 0.53009, 'box': {'x1': 318.5451, 'y1': 555.58069, 'x2': 359.68188, 'y2': 621.60522}}\n",
      "{'name': 'person', 'class': 0, 'confidence': 0.50896, 'box': {'x1': 323.05307, 'y1': 527.51343, 'x2': 356.14993, 'y2': 611.80566}}\n",
      "{'car': 5, 'bicycle': 1, 'motorcycle': 0, 'person': 1}\n"
     ]
    }
   ],
   "source": [
    "p_results = model(\"089083.png\")\n",
    "\n",
    "s_result = p_results[0].summary()\n",
    "\n",
    "temp_classes = {'car': 0, 'bicycle': 0, 'motorcycle': 0, 'person': 0}\n",
    "for i in s_result:\n",
    "    object_name = i['name']\n",
    "    if object_name in temp_classes.keys():\n",
    "        temp_classes[object_name] += 1\n",
    "    print(i)\n",
    "\n",
    "print(temp_classes)\n"
   ]
  },
  {
   "cell_type": "code",
   "execution_count": null,
   "metadata": {},
   "outputs": [
    {
     "name": "stdout",
     "output_type": "stream",
     "text": [
      "True\n"
     ]
    }
   ],
   "source": [
    "import torch\n",
    "print(torch.cuda.is_available())"
   ]
  }
 ],
 "metadata": {
  "kernelspec": {
   "display_name": "base",
   "language": "python",
   "name": "python3"
  },
  "language_info": {
   "codemirror_mode": {
    "name": "ipython",
    "version": 3
   },
   "file_extension": ".py",
   "mimetype": "text/x-python",
   "name": "python",
   "nbconvert_exporter": "python",
   "pygments_lexer": "ipython3",
   "version": "3.12.7"
  }
 },
 "nbformat": 4,
 "nbformat_minor": 2
}
